{
 "cells": [
  {
   "cell_type": "markdown",
   "metadata": {
    "toc": "true"
   },
   "source": [
    "# Table of Contents\n",
    " <p><div class=\"lev1 toc-item\"><a href=\"#Easily-creating-MAB-problems\" data-toc-modified-id=\"Easily-creating-MAB-problems-1\"><span class=\"toc-item-num\">1&nbsp;&nbsp;</span>Easily creating MAB problems</a></div><div class=\"lev2 toc-item\"><a href=\"#Constant-arms\" data-toc-modified-id=\"Constant-arms-11\"><span class=\"toc-item-num\">1.1&nbsp;&nbsp;</span>Constant arms</a></div><div class=\"lev2 toc-item\"><a href=\"#Bernoulli-arms\" data-toc-modified-id=\"Bernoulli-arms-12\"><span class=\"toc-item-num\">1.2&nbsp;&nbsp;</span>Bernoulli arms</a></div><div class=\"lev2 toc-item\"><a href=\"#Gaussian-arms\" data-toc-modified-id=\"Gaussian-arms-13\"><span class=\"toc-item-num\">1.3&nbsp;&nbsp;</span>Gaussian arms</a></div><div class=\"lev3 toc-item\"><a href=\"#Wrong-means-for-Gaussian-arms-?\" data-toc-modified-id=\"Wrong-means-for-Gaussian-arms-?-131\"><span class=\"toc-item-num\">1.3.1&nbsp;&nbsp;</span>Wrong means for Gaussian arms ?</a></div><div class=\"lev3 toc-item\"><a href=\"#Closed-form-formula\" data-toc-modified-id=\"Closed-form-formula-132\"><span class=\"toc-item-num\">1.3.2&nbsp;&nbsp;</span>Closed form formula</a></div><div class=\"lev3 toc-item\"><a href=\"#With-a-larger-variance-?\" data-toc-modified-id=\"With-a-larger-variance-?-133\"><span class=\"toc-item-num\">1.3.3&nbsp;&nbsp;</span>With a larger variance ?</a></div><div class=\"lev2 toc-item\"><a href=\"#Exponential-arms\" data-toc-modified-id=\"Exponential-arms-14\"><span class=\"toc-item-num\">1.4&nbsp;&nbsp;</span>Exponential arms</a></div><div class=\"lev2 toc-item\"><a href=\"#Uniform-arms\" data-toc-modified-id=\"Uniform-arms-15\"><span class=\"toc-item-num\">1.5&nbsp;&nbsp;</span>Uniform arms</a></div><div class=\"lev2 toc-item\"><a href=\"#Arms-with-rewards-outside-of-$[0,-1]$\" data-toc-modified-id=\"Arms-with-rewards-outside-of-$[0,-1]$-16\"><span class=\"toc-item-num\">1.6&nbsp;&nbsp;</span>Arms with rewards outside of <span class=\"MathJax_Preview\" style=\"color: inherit;\"><span class=\"MJXp-math\" id=\"MJXp-Span-243\"><span class=\"MJXp-mo\" id=\"MJXp-Span-244\" style=\"margin-left: 0em; margin-right: 0em;\">[</span><span class=\"MJXp-mn\" id=\"MJXp-Span-245\">0</span><span class=\"MJXp-mo\" id=\"MJXp-Span-246\" style=\"margin-left: 0em; margin-right: 0.222em;\">,</span><span class=\"MJXp-mn\" id=\"MJXp-Span-247\">1</span><span class=\"MJXp-mo\" id=\"MJXp-Span-248\" style=\"margin-left: 0em; margin-right: 0em;\">]</span></span></span><script type=\"math/tex\" id=\"MathJax-Element-30\">[0, 1]</script></a></div><div class=\"lev2 toc-item\"><a href=\"#Gamma-arms\" data-toc-modified-id=\"Gamma-arms-17\"><span class=\"toc-item-num\">1.7&nbsp;&nbsp;</span>Gamma arms</a></div><div class=\"lev2 toc-item\"><a href=\"#Non-truncated-Gaussian-and-Gamma-arms\" data-toc-modified-id=\"Non-truncated-Gaussian-and-Gamma-arms-18\"><span class=\"toc-item-num\">1.8&nbsp;&nbsp;</span>Non-truncated Gaussian and Gamma arms</a></div><div class=\"lev2 toc-item\"><a href=\"#Conclusion\" data-toc-modified-id=\"Conclusion-19\"><span class=\"toc-item-num\">1.9&nbsp;&nbsp;</span>Conclusion</a></div>"
   ]
  },
  {
   "cell_type": "markdown",
   "metadata": {},
   "source": [
    "---\n",
    "# Easily creating MAB problems\n",
    "First, be sure to be in the main folder, or to have installed [`SMPyBandits`](https://github.com/SMPyBandits/SMPyBandits), and import `MAB` from `Environment` package:"
   ]
  },
  {
   "cell_type": "code",
   "execution_count": 1,
   "metadata": {},
   "source": [
    "!pip install SMPyBandits watermark\n",
    "%load_ext watermark\n",
    "%watermark -v -m -p SMPyBandits -a \"Lilian Besson\""
   ],
   "outputs": []
  },
  {
   "cell_type": "code",
   "execution_count": 2,
   "metadata": {},
   "source": [
    "from SMPyBandits.Environment import MAB"
   ],
   "outputs": []
  },
  {
   "cell_type": "markdown",
   "metadata": {},
   "source": [
    "And also, import all the types of arms."
   ]
  },
  {
   "cell_type": "code",
   "execution_count": 3,
   "metadata": {
    "scrolled": true
   },
   "source": [
    "from SMPyBandits.Arms import *\n",
    "# Check it exists:\n",
    "Constant, Bernoulli, Gaussian, Exponential, ExponentialFromMean, Poisson, UniformArm, Gamma, GammaFromMean"
   ],
   "outputs": []
  },
  {
   "cell_type": "code",
   "execution_count": 4,
   "metadata": {},
   "source": [
    "import matplotlib as mpl\n",
    "mpl.rcParams['figure.figsize'] = (12.4, 7)"
   ],
   "outputs": []
  },
  {
   "cell_type": "markdown",
   "metadata": {},
   "source": [
    "## Constant arms\n",
    "\n",
    "This is the simpler example of arms : rewards are constant, and not randomly drawn from a distribution.\n",
    "Let consider an example with $K = 3$ arms."
   ]
  },
  {
   "cell_type": "code",
   "execution_count": 5,
   "metadata": {},
   "source": [
    "M_C = MAB([Constant(mu) for mu in [0.1, 0.5, 0.9]])"
   ],
   "outputs": []
  },
  {
   "cell_type": "markdown",
   "metadata": {},
   "source": [
    "The `plotHistogram()` method draws samples from each arm, and plot a histogram of their repartition.\n",
    "For constant arms, no need to take a lot of samples as they are constant."
   ]
  },
  {
   "cell_type": "code",
   "execution_count": 6,
   "metadata": {
    "scrolled": false
   },
   "source": [
    "_ = M_C.plotHistogram(10)"
   ],
   "outputs": []
  },
  {
   "cell_type": "markdown",
   "metadata": {},
   "source": [
    "## Bernoulli arms\n",
    "Then it's easy to create a Multi-Armed Bandit problem, instance of `MAB` class, either from a list of `Arm` objects:"
   ]
  },
  {
   "cell_type": "code",
   "execution_count": 7,
   "metadata": {
    "scrolled": true
   },
   "source": [
    "M_B = MAB([Bernoulli(mu) for mu in [0.1, 0.5, 0.9]])"
   ],
   "outputs": []
  },
  {
   "cell_type": "markdown",
   "metadata": {},
   "source": [
    "Or from a dictionary, with keys `\"arm_type\"` and `\"params\"`:"
   ]
  },
  {
   "cell_type": "code",
   "execution_count": 8,
   "metadata": {
    "scrolled": false
   },
   "source": [
    "M_B = MAB({\n",
    "    \"arm_type\": Bernoulli,\n",
    "    \"params\": [0.1, 0.5, 0.9]\n",
    "})"
   ],
   "outputs": []
  },
  {
   "cell_type": "markdown",
   "metadata": {},
   "source": [
    "The `plotHistogram()` method draws a lot of samples from each arm, and plot a histogram of their repartition:"
   ]
  },
  {
   "cell_type": "code",
   "execution_count": 9,
   "metadata": {
    "scrolled": false
   },
   "source": [
    "_ = M_B.plotHistogram()"
   ],
   "outputs": []
  },
  {
   "cell_type": "markdown",
   "metadata": {},
   "source": [
    "## Gaussian arms\n",
    "And with Gaussian arms, with a small variance of $\\sigma^2 = 0.05$, for rewards truncated into $[0, 1]$:"
   ]
  },
  {
   "cell_type": "code",
   "execution_count": 10,
   "metadata": {},
   "source": [
    "M_G = MAB([Gaussian(mu, sigma=0.05) for mu in [0.1, 0.5, 0.9]])"
   ],
   "outputs": []
  },
  {
   "cell_type": "markdown",
   "metadata": {},
   "source": [
    "The histogram clearly shows that low-variance Gaussian arms are easy to separate:"
   ]
  },
  {
   "cell_type": "code",
   "execution_count": 11,
   "metadata": {},
   "source": [
    "_ = M_G.plotHistogram(100000)"
   ],
   "outputs": []
  },
  {
   "cell_type": "markdown",
   "metadata": {},
   "source": [
    "### Wrong means for Gaussian arms ?\n",
    "The truncation seems to change the means.\n",
    "\n",
    "> For instance, the first arm (in <span style=\"color:red;\">red</span>) has a small mass on the special value $0$, so it probably reduces its mean.\n",
    "\n",
    "Let's estimate it empirically, and then check with the closed form solution."
   ]
  },
  {
   "cell_type": "code",
   "execution_count": 12,
   "metadata": {},
   "source": [
    "arm = Gaussian(0.1, sigma=0.05)"
   ],
   "outputs": []
  },
  {
   "cell_type": "code",
   "execution_count": 13,
   "metadata": {},
   "source": [
    "mean = arm.mean\n",
    "estimated_mean = np.mean(arm.draw_nparray((10000000,)))"
   ],
   "outputs": []
  },
  {
   "cell_type": "code",
   "execution_count": 14,
   "metadata": {},
   "source": [
    "mean, estimated_mean"
   ],
   "outputs": []
  },
  {
   "cell_type": "code",
   "execution_count": 15,
   "metadata": {},
   "source": [
    "def relative_error(x, y):\n",
    "    return abs(x - y) / x\n",
    "\n",
    "relative_error(mean, estimated_mean)"
   ],
   "outputs": []
  },
  {
   "cell_type": "markdown",
   "metadata": {},
   "source": [
    "$\\implies$ That's a relative difference of $0.4\\%$, really negligible!\n",
    "\n",
    "And for other values for $(\\mu, \\sigma)$:"
   ]
  },
  {
   "cell_type": "code",
   "execution_count": 16,
   "metadata": {},
   "source": [
    "arm = Gaussian(0.7, sigma=3)"
   ],
   "outputs": []
  },
  {
   "cell_type": "code",
   "execution_count": 17,
   "metadata": {},
   "source": [
    "mean = arm.mean\n",
    "estimated_mean = np.mean(arm.draw_nparray((10000000,)))"
   ],
   "outputs": []
  },
  {
   "cell_type": "code",
   "execution_count": 18,
   "metadata": {},
   "source": [
    "mean, estimated_mean"
   ],
   "outputs": []
  },
  {
   "cell_type": "code",
   "execution_count": 19,
   "metadata": {},
   "source": [
    "relative_error(mean, estimated_mean)"
   ],
   "outputs": []
  },
  {
   "cell_type": "markdown",
   "metadata": {},
   "source": [
    "$\\implies$ That's a relative difference of $25\\%$!\n",
    "\n",
    "> Clearly, this effect cannot be neglected!"
   ]
  },
  {
   "cell_type": "markdown",
   "metadata": {},
   "source": [
    "### Closed form formula"
   ]
  },
  {
   "cell_type": "markdown",
   "metadata": {},
   "source": [
    "Apparently, the closed form formula for the mean of a Gaussian arm $\\mathcal{N}(\\mu, \\sigma)$, **truncated to $[a,b]$** is :\n",
    "$$\\mathbb{E} (X\\mid a<X<b)=\\mu +\\sigma {\\frac {\\phi ({\\frac {a-\\mu }{\\sigma }})-\\phi ({\\frac {b-\\mu }{\\sigma }})}{\\Phi ({\\frac {b-\\mu }{\\sigma }})-\\Phi ({\\frac {a-\\mu }{\\sigma }})}}\\!=\\mu +\\sigma {\\frac {\\phi (\\alpha )-\\phi (\\beta )}{\\Phi (\\beta )-\\Phi (\\alpha )}}.$$\n",
    "\n",
    "Let's compute that."
   ]
  },
  {
   "cell_type": "code",
   "execution_count": 20,
   "metadata": {},
   "source": [
    "import numpy as np\n",
    "from scipy.special import erf"
   ],
   "outputs": []
  },
  {
   "cell_type": "markdown",
   "metadata": {},
   "source": [
    "The fonction\n",
    "$$\\phi(x) := \\frac{1}{\\sqrt{2 \\pi}} \\exp\\left(- \\frac{1}{2} x^2 \\right).$$"
   ]
  },
  {
   "cell_type": "code",
   "execution_count": 21,
   "metadata": {},
   "source": [
    "def phi(xi):\n",
    "    r\"\"\"The :math:`\\phi(\\xi)` function, defined by:\n",
    "\n",
    "    .. math:: \\phi(\\xi) := \\frac{1}{\\sqrt{2 \\pi}} \\exp\\left(- \\frac12 \\xi^2 \\right)\n",
    "\n",
    "    It is the probability density function of the standard normal distribution, see https://en.wikipedia.org/wiki/Standard_normal_distribution.\n",
    "    \"\"\"\n",
    "    return np.exp(- 0.5 * xi**2) / np.sqrt(2. * np.pi)"
   ],
   "outputs": []
  },
  {
   "cell_type": "markdown",
   "metadata": {},
   "source": [
    "The fonction\n",
    "$$\\Phi(x) := \\frac{1}{2} \\left(1 + \\mathrm{erf}\\left( \\frac{x}{\\sqrt{2}} \\right) \\right).$$"
   ]
  },
  {
   "cell_type": "code",
   "execution_count": 22,
   "metadata": {
    "code_folding": []
   },
   "source": [
    "def Phi(x):\n",
    "    r\"\"\"The :math:`\\Phi(x)` function, defined by:\n",
    "\n",
    "    .. math:: \\Phi(x) := \\frac{1}{2} \\left(1 + \\mathrm{erf}\\left( \\frac{x}{\\sqrt{2}} \\right) \\right).\n",
    "\n",
    "    It is the probability density function of the standard normal distribution, see https://en.wikipedia.org/wiki/Cumulative_distribution_function\n",
    "    \"\"\"\n",
    "    return (1. + erf(x / np.sqrt(2.))) / 2."
   ],
   "outputs": []
  },
  {
   "cell_type": "code",
   "execution_count": 23,
   "metadata": {},
   "source": [
    "mu, sigma, mini, maxi = arm.mu, arm.sigma, arm.min, arm.max\n",
    "mu, sigma, mini, maxi"
   ],
   "outputs": []
  },
  {
   "cell_type": "code",
   "execution_count": 24,
   "metadata": {},
   "source": [
    "other_mean = mu + sigma * (phi(mini) - phi(maxi)) / (Phi(maxi) - Phi(mini))"
   ],
   "outputs": []
  },
  {
   "cell_type": "code",
   "execution_count": 25,
   "metadata": {},
   "source": [
    "mean, estimated_mean, other_mean"
   ],
   "outputs": []
  },
  {
   "cell_type": "markdown",
   "metadata": {},
   "source": [
    "Well, apparently, the [theoretical formula](https://en.wikipedia.org/wiki/Truncated_normal_distribution#Moments) is false for this case.\n",
    "It is not even bounded in $[0, 1]$!\n",
    "\n",
    "Let's forget about this possible issue, and consider that the mean $\\mu$ of a Gaussian arm $\\mathcal{N}(\\mu, \\sigma)$ truncated to $[0,1]$ is indeed $\\mu$."
   ]
  },
  {
   "cell_type": "markdown",
   "metadata": {},
   "source": [
    "### With a larger variance ?\n",
    "But if the variance is larger, it can be very hard to differentiate between arms, and so MAB learning will be harder.\n",
    "With a big variance of $\\sigma^2 = 0.5$, for rewards truncated into $[0, 1]$:"
   ]
  },
  {
   "cell_type": "code",
   "execution_count": 26,
   "metadata": {},
   "source": [
    "M_G = MAB([Gaussian(mu, sigma=0.10) for mu in [0.1, 0.5, 0.9]])\n",
    "_ = M_G.plotHistogram(100000)"
   ],
   "outputs": []
  },
  {
   "cell_type": "markdown",
   "metadata": {},
   "source": [
    "We see that due to the truncation, if mean of the Gaussian is too close to $0$ or $1$, then actual mean rewards is pushed to $0$ or $1$ (here the blue arm clearly has a mean higher than $0.9$).\n",
    "\n",
    "And for larger variances, it is even stronger:"
   ]
  },
  {
   "cell_type": "code",
   "execution_count": 27,
   "metadata": {},
   "source": [
    "M_G = MAB([Gaussian(mu, sigma=0.25) for mu in [0.1, 0.5, 0.9]])\n",
    "_ = M_G.plotHistogram()"
   ],
   "outputs": []
  },
  {
   "cell_type": "markdown",
   "metadata": {},
   "source": [
    "## Exponential arms\n",
    "We can do the same with (truncated) Exponential arms, and as a convenience I prefer to work with `ExponentialFromMean`, to use the mean and not the $\\lambda$ parameter to create the arm."
   ]
  },
  {
   "cell_type": "code",
   "execution_count": 28,
   "metadata": {},
   "source": [
    "M_E = MAB({ \"arm_type\": ExponentialFromMean, \"params\": [0.1, 0.5, 0.9]})"
   ],
   "outputs": []
  },
  {
   "cell_type": "code",
   "execution_count": 29,
   "metadata": {},
   "source": [
    "_ = M_E.plotHistogram()"
   ],
   "outputs": []
  },
  {
   "cell_type": "markdown",
   "metadata": {},
   "source": [
    "## Uniform arms\n",
    "Arms with rewards uniform in $[0,1]$, are continuous versions of Bernoulli$(0.5)$.\n",
    "They can also be uniform in other intervals."
   ]
  },
  {
   "cell_type": "code",
   "execution_count": 30,
   "metadata": {},
   "source": [
    "UniformArm(0, 1).lower_amplitude\n",
    "UniformArm(0, 0.1).lower_amplitude\n",
    "UniformArm(0.4, 0.5).lower_amplitude\n",
    "UniformArm(0.8, 0.9).lower_amplitude"
   ],
   "outputs": []
  },
  {
   "cell_type": "code",
   "execution_count": 31,
   "metadata": {},
   "source": [
    "M_U = MAB([UniformArm(0, 1), UniformArm(0, 0.1), UniformArm(0.4, 0.5), UniformArm(0.8, 0.9)])"
   ],
   "outputs": []
  },
  {
   "cell_type": "code",
   "execution_count": 32,
   "metadata": {},
   "source": [
    "_ = M_U.plotHistogram(100000)"
   ],
   "outputs": []
  },
  {
   "cell_type": "markdown",
   "metadata": {},
   "source": [
    "----\n",
    "## Arms with rewards outside of $[0, 1]$\n",
    "\n",
    "Of course, everything work similarly if rewards are not in $[0, 1]$ but in any interval $[a, b]$.\n",
    "\n",
    "Note that all my algorithms assume $a = \\text{lower} = 0$ and $b = 1$ (and use \n",
    "$\\text{amplitude} = b - a$ instead of $b$).\n",
    "They just need to be specified if we stop using the default choice $[0, 1]$.\n",
    "\n",
    "For example, Gaussian arms can be truncated into $[-10, 10]$ instead of $[0, 1]$.\n",
    "Let define some Gaussian arms, with means $-5, 0, 5$ and a variance of $\\sigma^2 = 2$."
   ]
  },
  {
   "cell_type": "code",
   "execution_count": 33,
   "metadata": {},
   "source": [
    "M_G = MAB([Gaussian(mu, sigma=2, mini=-10, maxi=10) for mu in [-5, 0, 5]])"
   ],
   "outputs": []
  },
  {
   "cell_type": "code",
   "execution_count": 34,
   "metadata": {},
   "source": [
    "_ = M_G.plotHistogram(100000)"
   ],
   "outputs": []
  },
  {
   "cell_type": "code",
   "execution_count": 35,
   "metadata": {},
   "source": [
    "M_G = MAB([Gaussian(mu, sigma=0.1, mini=-10, maxi=10) for mu in [-5, 0, 5]])"
   ],
   "outputs": []
  },
  {
   "cell_type": "code",
   "execution_count": 36,
   "metadata": {},
   "source": [
    "_ = M_G.plotHistogram()"
   ],
   "outputs": []
  },
  {
   "cell_type": "markdown",
   "metadata": {},
   "source": [
    "## Gamma arms\n",
    "\n",
    "We can do the same with (truncated) Gamma arms, and as a convenience I prefer to work with `GammaFromMean`, to use the mean and not the $k$ shape parameter to create the arm.\n",
    "The scale $\\theta$ is fixed to $1$ by default, and here the rewards will be in $[0, 10]$."
   ]
  },
  {
   "cell_type": "code",
   "execution_count": 37,
   "metadata": {},
   "source": [
    "M_Gamma = MAB([GammaFromMean(shape, scale=1, mini=0, maxi=10) for shape in [1, 2, 3, 4, 5]])"
   ],
   "outputs": []
  },
  {
   "cell_type": "code",
   "execution_count": 38,
   "metadata": {
    "scrolled": false
   },
   "source": [
    "_ = M_Gamma.plotHistogram(100000)"
   ],
   "outputs": []
  },
  {
   "cell_type": "markdown",
   "metadata": {},
   "source": [
    "As for Gaussian arms, the truncation is strongly changing the means of the arm rewards.\n",
    "Here the arm with mean parameter $5$ has an empirical mean close  to $10$ due to truncation."
   ]
  },
  {
   "cell_type": "markdown",
   "metadata": {},
   "source": [
    "## Non-truncated Gaussian and Gamma arms\n",
    "\n",
    "Let try with non-truncated rewards."
   ]
  },
  {
   "cell_type": "code",
   "execution_count": 39,
   "metadata": {},
   "source": [
    "M_G = MAB([Gaussian(mu, sigma=3, mini=float('-inf'), maxi=float('+inf')) for mu in [-10, 0, 10]])"
   ],
   "outputs": []
  },
  {
   "cell_type": "code",
   "execution_count": 40,
   "metadata": {},
   "source": [
    "_ = M_G.plotHistogram(100000)"
   ],
   "outputs": []
  },
  {
   "cell_type": "markdown",
   "metadata": {},
   "source": [
    "And with non-truncated Gamma arms ?"
   ]
  },
  {
   "cell_type": "code",
   "execution_count": 41,
   "metadata": {},
   "source": [
    "M_Gamma = MAB([GammaFromMean(shape, scale=1, mini=float('-inf'), maxi=float('+inf')) for shape in [1, 2, 3, 4, 5]])\n",
    "_ = M_Gamma.plotHistogram(100000)"
   ],
   "outputs": []
  },
  {
   "cell_type": "code",
   "execution_count": 42,
   "metadata": {},
   "source": [
    "M_Gamma = MAB([GammaFromMean(shape, scale=1, mini=float('-inf'), maxi=float('+inf')) for shape in [10, 20, 30, 40, 50]])\n",
    "_ = M_Gamma.plotHistogram(1000000)"
   ],
   "outputs": []
  },
  {
   "cell_type": "markdown",
   "metadata": {},
   "source": [
    "----\n",
    "## Conclusion\n",
    "\n",
    "This small notebook demonstrated how to define arms and Multi-Armed Bandit problems in my framework, [SMPyBandits](https://github.com/SMPyBandits/SMPyBandits)."
   ]
  }
 ],
 "metadata": {
  "kernelspec": {
   "display_name": "Python 3",
   "language": "python",
   "name": "python3"
  },
  "language_info": {
   "codemirror_mode": {
    "name": "ipython",
    "version": 3
   },
   "file_extension": ".py",
   "mimetype": "text/x-python",
   "name": "python",
   "nbconvert_exporter": "python",
   "pygments_lexer": "ipython3",
   "version": "3.6.6"
  },
  "toc": {
   "colors": {
    "hover_highlight": "#DAA520",
    "running_highlight": "#FF0000",
    "selected_highlight": "#FFD700"
   },
   "moveMenuLeft": true,
   "nav_menu": {
    "height": "119px",
    "width": "251px"
   },
   "navigate_menu": true,
   "number_sections": true,
   "sideBar": true,
   "threshold": 4,
   "toc_cell": true,
   "toc_position": {
    "height": "570px",
    "left": "0px",
    "right": "1164px",
    "top": "117px",
    "width": "212px"
   },
   "toc_section_display": "block",
   "toc_window_display": true
  },
  "varInspector": {
   "cols": {
    "lenName": 16,
    "lenType": 16,
    "lenVar": 40
   },
   "kernels_config": {
    "python": {
     "delete_cmd_postfix": "",
     "delete_cmd_prefix": "del ",
     "library": "var_list.py",
     "varRefreshCmd": "print(var_dic_list())"
    },
    "r": {
     "delete_cmd_postfix": ") ",
     "delete_cmd_prefix": "rm(",
     "library": "var_list.r",
     "varRefreshCmd": "cat(var_dic_list()) "
    }
   },
   "types_to_exclude": [
    "module",
    "function",
    "builtin_function_or_method",
    "instance",
    "_Feature"
   ],
   "window_display": false
  }
 },
 "nbformat": 4,
 "nbformat_minor": 1
}
