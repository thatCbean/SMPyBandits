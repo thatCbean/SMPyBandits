{
 "cells": [
  {
   "cell_type": "markdown",
   "metadata": {
    "toc": "true"
   },
   "source": [
    "# Table of Contents\n",
    " <p><div class=\"lev1 toc-item\"><a href=\"#Visualizing-detection-of-change-points-for-nonstationary-problems\" data-toc-modified-id=\"Visualizing-detection-of-change-points-for-nonstationary-problems-1\"><span class=\"toc-item-num\">1&nbsp;&nbsp;</span>Visualizing detection of change points for nonstationary problems</a></div><div class=\"lev2 toc-item\"><a href=\"#Creating-the-MAB-problems\" data-toc-modified-id=\"Creating-the-MAB-problems-11\"><span class=\"toc-item-num\">1.1&nbsp;&nbsp;</span>Creating the MAB problems</a></div><div class=\"lev2 toc-item\"><a href=\"#Plotting-the-history-of-means\" data-toc-modified-id=\"Plotting-the-history-of-means-12\"><span class=\"toc-item-num\">1.2&nbsp;&nbsp;</span>Plotting the history of means</a></div><div class=\"lev2 toc-item\"><a href=\"#Plotting-with-indications-on-the-restart-times\" data-toc-modified-id=\"Plotting-with-indications-on-the-restart-times-13\"><span class=\"toc-item-num\">1.3&nbsp;&nbsp;</span>Plotting with indications on the restart times</a></div><div class=\"lev2 toc-item\"><a href=\"#Data-for-problem-1\" data-toc-modified-id=\"Data-for-problem-1-14\"><span class=\"toc-item-num\">1.4&nbsp;&nbsp;</span>Data for problem 1</a></div><div class=\"lev2 toc-item\"><a href=\"#Data-for-problem-2\" data-toc-modified-id=\"Data-for-problem-2-15\"><span class=\"toc-item-num\">1.5&nbsp;&nbsp;</span>Data for problem 2</a></div>"
   ]
  },
  {
   "cell_type": "markdown",
   "metadata": {},
   "source": [
    "---\n",
    "# Visualizing detection of change points for nonstationary problems\n",
    "First, be sure to be in the main folder, or to have installed [`SMPyBandits`](https://github.com/SMPyBandits/SMPyBandits), and import `MAB` from `Environment` package:"
   ]
  },
  {
   "cell_type": "markdown",
   "metadata": {},
   "source": [
    "!pip install SMPyBandits watermark"
   ]
  },
  {
   "cell_type": "code",
   "execution_count": 20,
   "metadata": {},
   "source": [
    "import sys\n",
    "sys.path.append(\"..\")"
   ],
   "outputs": []
  },
  {
   "cell_type": "code",
   "execution_count": 21,
   "metadata": {},
   "source": [
    "%load_ext watermark\n",
    "%watermark -v -m -a \"Lilian Besson\""
   ],
   "outputs": []
  },
  {
   "cell_type": "code",
   "execution_count": 22,
   "metadata": {},
   "source": [
    "from SMPyBandits.Environment.MAB import PieceWiseStationaryMAB, MAB"
   ],
   "outputs": []
  },
  {
   "cell_type": "code",
   "execution_count": 23,
   "metadata": {},
   "source": [
    "%matplotlib notebook\n",
    "import matplotlib as mpl\n",
    "mpl.rcParams['figure.dpi'] = 120\n",
    "mpl.rcParams['figure.figsize'] = (10, 5.6)\n",
    "import matplotlib.pyplot as plt"
   ],
   "outputs": []
  },
  {
   "cell_type": "code",
   "execution_count": 24,
   "metadata": {},
   "source": [
    "import seaborn as sns"
   ],
   "outputs": []
  },
  {
   "cell_type": "code",
   "execution_count": 25,
   "metadata": {},
   "source": [
    "sns.set(context=\"talk\", style=\"whitegrid\", palette=\"hls\", font=\"sans-serif\", font_scale=0.9)"
   ],
   "outputs": []
  },
  {
   "cell_type": "code",
   "execution_count": 39,
   "metadata": {},
   "source": [
    "from SMPyBandits.Environment.plotsettings import nrows_ncols"
   ],
   "outputs": []
  },
  {
   "cell_type": "code",
   "execution_count": 65,
   "metadata": {},
   "source": [
    "def palette(nb):\n",
    "    return sns.hls_palette(nb + 1)[:nb]\n",
    "\n",
    "def makemarkers(nb):\n",
    "    allmarkers = ['o', 'D', '^', '<', 'v', 'p', 's', '*', 'h', '>']\n",
    "    longlist = allmarkers * (1 + int(nb / float(len(allmarkers))))  # Cycle the good number of time\n",
    "    return longlist[:nb]  # Truncate"
   ],
   "outputs": []
  },
  {
   "cell_type": "markdown",
   "metadata": {},
   "source": [
    "## Creating the MAB problems"
   ]
  },
  {
   "cell_type": "code",
   "execution_count": 66,
   "metadata": {},
   "source": [
    "from SMPyBandits.configuration_nonstationary import *"
   ],
   "outputs": []
  },
  {
   "cell_type": "code",
   "execution_count": 67,
   "metadata": {},
   "source": [
    "envs = configuration['environment']\n",
    "envs"
   ],
   "outputs": []
  },
  {
   "cell_type": "code",
   "execution_count": 68,
   "metadata": {},
   "source": [
    "env1 = envs[0]\n",
    "env2 = envs[1]"
   ],
   "outputs": []
  },
  {
   "cell_type": "code",
   "execution_count": 69,
   "metadata": {},
   "source": [
    "pb1 = PieceWiseStationaryMAB(env1)"
   ],
   "outputs": []
  },
  {
   "cell_type": "code",
   "execution_count": 70,
   "metadata": {},
   "source": [
    "pb2 = PieceWiseStationaryMAB(env2)"
   ],
   "outputs": []
  },
  {
   "cell_type": "markdown",
   "metadata": {},
   "source": [
    "## Plotting the history of means"
   ]
  },
  {
   "cell_type": "code",
   "execution_count": 71,
   "metadata": {},
   "source": [
    "horizon = 5000"
   ],
   "outputs": []
  },
  {
   "cell_type": "code",
   "execution_count": 72,
   "metadata": {},
   "source": [
    "fig = pb1.plotHistoryOfMeans(horizon=horizon)"
   ],
   "outputs": []
  },
  {
   "cell_type": "markdown",
   "metadata": {},
   "source": [
    "## Plotting with indications on the restart times"
   ]
  },
  {
   "cell_type": "markdown",
   "metadata": {},
   "source": [
    "Now in a function, we use this data:\n"
   ]
  },
  {
   "cell_type": "code",
   "execution_count": 73,
   "metadata": {},
   "source": [
    "def plotHistoryOfMeans_with_restart(restart_points, labels, pb, problemId=1, horizon=horizon):\n",
    "    nbAlgorithms = len(labels)\n",
    "    nbArms = pb.nbArms\n",
    "    means_of_all_arms = pb.get_allMeans(horizon=horizon)\n",
    "    \n",
    "    colors1 = sns.hls_palette(nbArms + 1)[:nbArms]\n",
    "    markers1 = makemarkers(nbArms)\n",
    "    linestyles1 = ['--', '-.', ':'] * nbArms\n",
    "    linestyles1 = linestyles1[:nbArms]\n",
    "    linewidths1 = [5, 3] * nbArms\n",
    "    linewidths1 = linewidths1[:nbArms]\n",
    "\n",
    "    colors2 = sns.husl_palette(nbAlgorithms + 1)[:nbAlgorithms]\n",
    "    markers2 = makemarkers(nbAlgorithms)\n",
    "    \n",
    "    nrows, ncols = nrows_ncols(nbAlgorithms)\n",
    "    \n",
    "    fig, axes = plt.subplots(nrows, ncols, sharex=True, sharey=True)\n",
    "    fig.suptitle(\"Locations of change-points detected by different algorithms (problem {})\".format(problemId))\n",
    "    \n",
    "    # start for each algorithm\n",
    "    for policyId, ax in enumerate(axes.flat[:nbAlgorithms]):\n",
    "    # for policyId, label in enumerate(labels):\n",
    "        label = labels[policyId]\n",
    "        data = restart_points[label]\n",
    "        regret = data[\"regret\"]\n",
    "\n",
    "        for armId in range(nbArms):\n",
    "            meanOfThisArm = means_of_all_arms[armId, :]\n",
    "            ax.plot(meanOfThisArm,\n",
    "                     color=colors1[armId],\n",
    "                     # marker=markers[armId], markevery=(armId / 50., 0.1),\n",
    "                     label='Arm #{}'.format(armId),\n",
    "                     #linestyle=linestyles1[armId],\n",
    "                     #linewidth=linewidths1[armId],\n",
    "                     linewidth=linewidths1[0],\n",
    "                     alpha=0.7)\n",
    "\n",
    "        plt.ylim(0, 1)\n",
    "        ymin, ymax = plt.ylim()\n",
    "        # for tau in pb.changePoints:\n",
    "        #     if tau > 0 and tau < horizon:\n",
    "        #         plt.vlines(tau, ymin, ymax, linestyles='dotted', alpha=0.7)\n",
    "\n",
    "        #ax.set_xlabel(r\"Time steps $t = 1...T$, horizon $T = {}$\".format(horizon))\n",
    "        #ax.set_ylabel(r\"Successive means of the $K = {}$ arms\".format(nbArms))\n",
    "        ax.set_title(\"{} (regret $= {}$)\".format(label, regret))\n",
    "        #ax.set_title(\"Location of change-points detected by algorithm {} (regret = {})\".format(label, regret))\n",
    "\n",
    "        Xs, Ys = [], []\n",
    "        for armId in range(nbArms):\n",
    "            means = means_of_all_arms[armId]\n",
    "            restarts = data[armId]\n",
    "            times = [ time for time, nbsample in restarts ]\n",
    "            Xs = times\n",
    "            Ys = [ means[time] for time in times ]\n",
    "            if Xs:\n",
    "                ax.plot(Xs, Ys,\n",
    "                        #color=colors2[policyId],\n",
    "                        color=colors1[armId],\n",
    "                        marker=markers2[policyId], markersize=15,\n",
    "                        linestyle='',\n",
    "                        label=label,\n",
    "                        alpha=0.9)\n",
    "\n",
    "    #plt.tight_layout(rect=[0.04, 0.04, 0.75, 0.92])\n",
    "    #plt.legend(loc='center left', bbox_to_anchor=(1, 0.5), numpoints=1, fancybox=True, framealpha=0.8)\n",
    "\n",
    "    plt.show()\n",
    "    return fig, axes"
   ],
   "outputs": []
  },
  {
   "cell_type": "markdown",
   "metadata": {},
   "source": [
    "## Data for problem 1"
   ]
  },
  {
   "cell_type": "code",
   "execution_count": 74,
   "metadata": {},
   "source": [
    "labels_1 = [\n",
    "    \"M-klUCB\",\n",
    "    \"CUSUM-klUCB\",\n",
    "    \"GLR-klUCB Local\",\n",
    "    \"GLR-klUCB Global\",\n",
    "]"
   ],
   "outputs": []
  },
  {
   "cell_type": "markdown",
   "metadata": {},
   "source": [
    "Then we have a dictionary mapping a label to the data of interest.\n",
    "This is a dictionary mapping arm to list of couple (time, nb of samples since last restart)."
   ]
  },
  {
   "cell_type": "code",
   "execution_count": 75,
   "metadata": {},
   "source": [
    "restart_points_1 = {\n",
    "    \"M-klUCB\": {\n",
    "        0: [(3080, 828)],\n",
    "        1: [],\n",
    "        2: [(2055, 1811)],\n",
    "        \"regret\": 280,\n",
    "    },\n",
    "    \"CUSUM-klUCB\": {\n",
    "        0: [(3027, 825), (3505, 466), (4914, 1304)],\n",
    "        1: [(2512, 249), (4383, 123)],\n",
    "        2: [(2011, 1861), ],\n",
    "        \"regret\": 150,\n",
    "    },\n",
    "    \"GLR-klUCB Local\": {\n",
    "        0: [(3032, 840)],\n",
    "        1: [],\n",
    "        2: [(2014, 1970)],\n",
    "        \"regret\": 63,\n",
    "    },\n",
    "    \"GLR-klUCB Global\": {\n",
    "        0: [(3031, 827)],\n",
    "        1: [],\n",
    "        2: [(2009, 1972)],\n",
    "        \"regret\": 71,\n",
    "    },\n",
    "}"
   ],
   "outputs": []
  },
  {
   "cell_type": "markdown",
   "metadata": {},
   "source": [
    "Let's try!"
   ]
  },
  {
   "cell_type": "code",
   "execution_count": 76,
   "metadata": {
    "scrolled": false
   },
   "source": [
    "plotHistoryOfMeans_with_restart(restart_points_1, labels_1, pb1, problemId=1, horizon=horizon)"
   ],
   "outputs": []
  },
  {
   "cell_type": "code",
   "execution_count": 77,
   "metadata": {},
   "source": [
    "plt.savefig(\"Visualizing_locations_of_change_points_for_different_algorithms__4algs_Pb1.png\")\n",
    "plt.savefig(\"Visualizing_locations_of_change_points_for_different_algorithms__4algs_Pb1.pdf\")"
   ],
   "outputs": []
  },
  {
   "cell_type": "markdown",
   "metadata": {},
   "source": [
    "## Data for problem 2"
   ]
  },
  {
   "cell_type": "code",
   "execution_count": 78,
   "metadata": {},
   "source": [
    "labels_2 = labels_1"
   ],
   "outputs": []
  },
  {
   "cell_type": "code",
   "execution_count": 79,
   "metadata": {},
   "source": [
    "restart_points_2 = {\n",
    "    \"M-klUCB\": {\n",
    "        0: [],\n",
    "        1: [],\n",
    "        2: [],\n",
    "        \"regret\": 570,\n",
    "    },\n",
    "    \"CUSUM-klUCB\": {\n",
    "        0: [(2305, 185), (2591, 272), (3387, 770)],\n",
    "        1: [(3677, 169)],\n",
    "        2: [(1055, 963), (2051, 922)],\n",
    "        \"regret\": 150,\n",
    "    },\n",
    "    \"GLR-klUCB Local\": {\n",
    "        0: [(2367, 1006), (4203, 1873)],\n",
    "        1: [],\n",
    "        2: [(1070, 1030)],\n",
    "        \"regret\": 115,\n",
    "    },\n",
    "    \"GLR-klUCB Global\": {\n",
    "        0: [(2705, 1038)],\n",
    "        1: [],\n",
    "        2: [(1111, 1060)],\n",
    "        \"regret\": 125,\n",
    "    },\n",
    "}"
   ],
   "outputs": []
  },
  {
   "cell_type": "code",
   "execution_count": 80,
   "metadata": {
    "scrolled": false
   },
   "source": [
    "plotHistoryOfMeans_with_restart(restart_points_2, labels_2, pb2, problemId=2, horizon=horizon)"
   ],
   "outputs": []
  },
  {
   "cell_type": "code",
   "execution_count": 81,
   "metadata": {},
   "source": [
    "plt.savefig(\"Visualizing_locations_of_change_points_for_different_algorithms__4algs_Pb2.png\")\n",
    "plt.savefig(\"Visualizing_locations_of_change_points_for_different_algorithms__4algs_Pb2.pdf\")"
   ],
   "outputs": []
  },
  {
   "cell_type": "code",
   "execution_count": null,
   "metadata": {},
   "source": [],
   "outputs": []
  }
 ],
 "metadata": {
  "kernelspec": {
   "display_name": "Python 3",
   "language": "python",
   "name": "python3"
  },
  "toc": {
   "colors": {
    "hover_highlight": "#DAA520",
    "running_highlight": "#FF0000",
    "selected_highlight": "#FFD700"
   },
   "moveMenuLeft": true,
   "nav_menu": {
    "height": "119px",
    "width": "251px"
   },
   "navigate_menu": true,
   "number_sections": true,
   "sideBar": true,
   "threshold": 4,
   "toc_cell": true,
   "toc_position": {
    "height": "570px",
    "left": "0px",
    "right": "1164px",
    "top": "117px",
    "width": "212px"
   },
   "toc_section_display": "block",
   "toc_window_display": true
  },
  "varInspector": {
   "cols": {
    "lenName": 16,
    "lenType": 16,
    "lenVar": 40
   },
   "kernels_config": {
    "python": {
     "delete_cmd_postfix": "",
     "delete_cmd_prefix": "del ",
     "library": "var_list.py",
     "varRefreshCmd": "print(var_dic_list())"
    },
    "r": {
     "delete_cmd_postfix": ") ",
     "delete_cmd_prefix": "rm(",
     "library": "var_list.r",
     "varRefreshCmd": "cat(var_dic_list()) "
    }
   },
   "types_to_exclude": [
    "module",
    "function",
    "builtin_function_or_method",
    "instance",
    "_Feature"
   ],
   "window_display": false
  }
 },
 "nbformat": 4,
 "nbformat_minor": 1
}
